{
 "metadata": {
  "language_info": {
   "codemirror_mode": {
    "name": "ipython",
    "version": 3
   },
   "file_extension": ".py",
   "mimetype": "text/x-python",
   "name": "python",
   "nbconvert_exporter": "python",
   "pygments_lexer": "ipython3",
   "version": "3.8.3-final"
  },
  "orig_nbformat": 2,
  "kernelspec": {
   "name": "python3",
   "display_name": "Python 3",
   "language": "python"
  }
 },
 "nbformat": 4,
 "nbformat_minor": 2,
 "cells": [
  {
   "source": [
    "# Advanced Parsing\n",
    "\n",
    "* Searching for tags by attributes"
   ],
   "cell_type": "markdown",
   "metadata": {}
  },
  {
   "cell_type": "code",
   "execution_count": 2,
   "metadata": {},
   "outputs": [],
   "source": [
    "import re\n",
    "import requests \n",
    "from bs4 import BeautifulSoup"
   ]
  },
  {
   "cell_type": "code",
   "execution_count": 3,
   "metadata": {},
   "outputs": [],
   "source": [
    "content = requests.get(r'http://www.pythonscraping.com/pages/warandpeace.html').text\n",
    "content_parser = BeautifulSoup(content, 'html.parser')\n",
    "\n",
    "with open('c2_content_parser.txt', mode='w') as f:\n",
    "    f.write(content)"
   ]
  },
  {
   "cell_type": "code",
   "execution_count": 13,
   "metadata": {},
   "outputs": [
    {
     "output_type": "execute_result",
     "data": {
      "text/plain": [
       "bs4.element.ResultSet"
      ]
     },
     "metadata": {},
     "execution_count": 13
    }
   ],
   "source": []
  },
  {
   "cell_type": "code",
   "execution_count": 15,
   "metadata": {},
   "outputs": [
    {
     "output_type": "stream",
     "name": "stdout",
     "text": [
      "<class 'bs4.element.ResultSet'>\n"
     ]
    }
   ],
   "source": [
    "# find_all method can be used to find all tags and the attribute associcated with each tag\n",
    "\n",
    "name_list = content_parser.find_all('span', {'class':'green'}) \n",
    "# this find all span tags with the class green\n",
    "# this return a BS result set object which is a iterable\n",
    "print(type(name_list))"
   ]
  },
  {
   "cell_type": "code",
   "execution_count": 16,
   "metadata": {},
   "outputs": [
    {
     "output_type": "stream",
     "name": "stdout",
     "text": [
      "Anna\nPavlovna Scherer\nEmpress Marya\nFedorovna\nPrince Vasili Kuragin\nAnna Pavlovna\nSt. Petersburg\nthe prince\nAnna Pavlovna\nAnna Pavlovna\nthe prince\nthe prince\nthe prince\nPrince Vasili\nAnna Pavlovna\nAnna Pavlovna\nthe prince\nWintzingerode\nKing of Prussia\nle Vicomte de Mortemart\nMontmorencys\nRohans\nAbbe Morio\nthe Emperor\nthe prince\nPrince Vasili\nDowager Empress Marya Fedorovna\nthe baron\nAnna Pavlovna\nthe Empress\nthe Empress\nAnna Pavlovna's\nHer Majesty\nBaron\nFunke\nThe prince\nAnna\nPavlovna\nthe Empress\nThe prince\nAnatole\nthe prince\nThe prince\nAnna\nPavlovna\nAnna Pavlovna\n"
     ]
    }
   ],
   "source": [
    "for name in name_list:\n",
    "    print(name.get_text()) # get_text() method extract the content from the tags\n",
    "\n",
    "# Notes:\n",
    "# calling get_text() should the last thing that we do\n",
    "# we want to preserve the tag structure of a document for as long as possible"
   ]
  },
  {
   "cell_type": "code",
   "execution_count": 25,
   "metadata": {},
   "outputs": [
    {
     "output_type": "stream",
     "name": "stdout",
     "text": [
      "<h1>War and Peace</h1>\n<h2>Chapter 1</h2>\n"
     ]
    }
   ],
   "source": [
    "x = content_parser.find_all(['h1','h2','h3','h4']) # we can also pass in a list of tag name\n",
    "for element in x:\n",
    "    print(element)"
   ]
  },
  {
   "cell_type": "code",
   "execution_count": 30,
   "metadata": {},
   "outputs": [
    {
     "output_type": "stream",
     "name": "stdout",
     "text": [
      "Well, Prince, so Genoa and Lucca are now just family estates of the\nBuonapartes. But I warn you, if you don't tell me that this means war,\nif you still try to defend the infamies and horrors perpetrated by\nthat Antichrist- I really believe he is Antichrist- I will have\nnothing more to do with you and you are no longer my friend, no longer\nmy 'faithful slave,' as you call yourself! But how do you do? I see\nI have frightened you- sit down and tell me all the news.\n\nAnna\nPavlovna Scherer\n\nEmpress Marya\nFedorovna\n\nPrince Vasili Kuragin\n\nAnna Pavlovna\n\nSt. Petersburg\n\nIf you have nothing better to do, Count [or Prince], and if the\nprospect of spending an evening with a poor invalid is not too\nterrible, I shall be very charmed to see you tonight between 7 and 10-\nAnnette Scherer.\n\nHeavens! what a virulent attack!\n\nthe prince\n\nAnna Pavlovna\n\nFirst of all, dear friend, tell me how you are. Set your friend's\nmind at rest,\n\nCan one be well while suffering morally? Can one be calm in times\nlike these if one has any feeling?\n\nAnna Pavlovna\n\nYou are\nstaying the whole evening, I hope?\n\nAnd the fete at the English ambassador's? Today is Wednesday. I\nmust put in an appearance there,\n\nthe prince\n\nMy daughter is\ncoming for me to take me there.\n\nI thought today's fete had been canceled. I confess all these\nfestivities and fireworks are becoming wearisome.\n\nIf they had known that you wished it, the entertainment would\nhave been put off,\n\nthe prince\n\nDon't tease! Well, and what has been decided about Novosiltsev's\ndispatch? You know everything.\n\nWhat can one say about it?\n\nthe prince\n\nWhat has been decided? They have decided that\nBuonaparte has burnt his boats, and I believe that we are ready to\nburn ours.\n\nPrince Vasili\n\nAnna Pavlovna\n\nAnna Pavlovna\n\nOh, don't speak to me of Austria. Perhaps I don't understand\nthings, but Austria never has wished, and does not wish, for war.\nShe is betraying us! Russia alone must save Europe. Our gracious\nsovereign recognizes his high vocation and will be true to it. That is\nthe one thing I have faith in! Our good and wonderful sovereign has to\nperform the noblest role on earth, and he is so virtuous and noble\nthat God will not forsake him. He will fulfill his vocation and\ncrush the hydra of revolution, which has become more terrible than\never in the person of this murderer and villain! We alone must\navenge the blood of the just one.... Whom, I ask you, can we rely\non?... England with her commercial spirit will not and cannot\nunderstand the Emperor Alexander's loftiness of soul. She has\nrefused to evacuate Malta. She wanted to find, and still seeks, some\nsecret motive in our actions. What answer did Novosiltsev get? None.\nThe English have not understood and cannot understand the\nself-abnegation of our Emperor who wants nothing for himself, but only\ndesires the good of mankind. And what have they promised? Nothing! And\nwhat little they have promised they will not perform! Prussia has\nalways declared that Buonaparte is invincible, and that all Europe\nis powerless before him.... And I don't believe a word that Hardenburg\nsays, or Haugwitz either. This famous Prussian neutrality is just a\ntrap. I have faith only in God and the lofty destiny of our adored\nmonarch. He will save Europe!\n\nI think,\n\nthe prince\n\nthat if you had been\nsent instead of our dear Wintzingerode you would have captured the\nKing of Prussia's consent by assault. You are so eloquent. Will you\ngive me a cup of tea?\n\nWintzingerode\n\nKing of Prussia\n\nIn a moment. A propos,\n\nI am\nexpecting two very interesting men tonight, le Vicomte de Mortemart,\nwho is connected with the Montmorencys through the Rohans, one of\nthe best French families. He is one of the genuine emigres, the good\nones. And also the Abbe Morio. Do you know that profound thinker? He\nhas been received by the Emperor. Had you heard?\n\nle Vicomte de Mortemart\n\nMontmorencys\n\nRohans\n\nAbbe Morio\n\nthe Emperor\n\nI shall be delighted to meet them,\n\nthe prince\n\nBut tell me,\n\nis it true that the Dowager Empress wants Baron Funke\nto be appointed first secretary at Vienna? The baron by all accounts\nis a poor creature.\n\nPrince Vasili\n\nDowager Empress Marya Fedorovna\n\nthe baron\n\nAnna Pavlovna\n\nthe Empress\n\nBaron Funke has been recommended to the Dowager Empress by her\nsister,\n\nthe Empress\n\nAnna Pavlovna's\n\nHer Majesty\n\nBaron\nFunke\n\nThe prince\n\nAnna\nPavlovna\n\nthe Empress\n\nNow about your family. Do you know that since your daughter came\nout everyone has been enraptured by her? They say she is amazingly\nbeautiful.\n\nThe prince\n\nI often think,\n\nI often think how unfairly sometimes the\njoys of life are distributed. Why has fate given you two such splendid\nchildren? I don't speak of Anatole, your youngest. I don't like\nhim,\n\nAnatole\n\nTwo such charming children. And really you appreciate\nthem less than anyone, and so you don't deserve to have them.\n\nI can't help it,\n\nthe prince\n\nLavater would have said I\nlack the bump of paternity.\n\nDon't joke; I mean to have a serious talk with you. Do you know I\nam dissatisfied with your younger son? Between ourselves\n\nhe was mentioned at Her\nMajesty's and you were pitied....\n\nThe prince\n\nWhat would you have me do?\n\nYou know I did all\na father could for their education, and they have both turned out\nfools. Hippolyte is at least a quiet fool, but Anatole is an active\none. That is the only difference between them.\n\nAnd why are children born to such men as you? If you were not a\nfather there would be nothing I could reproach you with,\n\nAnna\nPavlovna\n\nI am your faithful slave and to you alone I can confess that my\nchildren are the bane of my life. It is the cross I have to bear. That\nis how I explain it to myself. It can't be helped!\n\nAnna Pavlovna\n\n"
     ]
    }
   ],
   "source": [
    "y = content_parser.find_all('span', {'class':{'green', 'red'}}) \n",
    "\n",
    "for element in y:\n",
    "    print(element.get_text())\n",
    "    print()"
   ]
  },
  {
   "cell_type": "code",
   "execution_count": 42,
   "metadata": {},
   "outputs": [
    {
     "output_type": "execute_result",
     "data": {
      "text/plain": [
       "['the prince',\n",
       " 'the prince',\n",
       " 'the prince',\n",
       " 'the prince',\n",
       " 'the prince',\n",
       " 'the prince',\n",
       " 'the prince']"
      ]
     },
     "metadata": {},
     "execution_count": 42
    }
   ],
   "source": [
    "prince_content = content_parser.find_all(text='the prince')\n",
    "prince_content"
   ]
  },
  {
   "cell_type": "code",
   "execution_count": 53,
   "metadata": {},
   "outputs": [
    {
     "output_type": "stream",
     "name": "stdout",
     "text": [
      "[]\n"
     ]
    }
   ],
   "source": [
    "title = content_parser.find_all(id='title', class_='text')\n",
    "print(title)\n",
    "# this return first tag with the following attribute:\n",
    "# class : 'text'\n",
    "# id : 'title'"
   ]
  },
  {
   "cell_type": "code",
   "execution_count": 56,
   "metadata": {},
   "outputs": [
    {
     "output_type": "stream",
     "name": "stdout",
     "text": [
      "None\n"
     ]
    }
   ],
   "source": [
    "title = content_parser.find(id='title')\n",
    "print(title)"
   ]
  },
  {
   "cell_type": "code",
   "execution_count": 59,
   "metadata": {},
   "outputs": [
    {
     "output_type": "stream",
     "name": "stdout",
     "text": [
      "[]\n"
     ]
    }
   ],
   "source": [
    "title = content_parser.find_all(id='title', class_='green')\n",
    "print(title)"
   ]
  },
  {
   "cell_type": "code",
   "execution_count": 68,
   "metadata": {},
   "outputs": [
    {
     "output_type": "stream",
     "name": "stdout",
     "text": [
      "Well, Prince, so Genoa and Lucca are now just family estates of the\nBuonapartes. But I warn you, if you don't tell me that this means war,\nif you still try to defend the infamies and horrors perpetrated by\nthat Antichrist- I really believe he is Antichrist- I will have\nnothing more to do with you and you are no longer my friend, no longer\nmy 'faithful slave,' as you call yourself! But how do you do? I see\nI have frightened you- sit down and tell me all the news.\n\nAnna\nPavlovna Scherer\n\nEmpress Marya\nFedorovna\n\nPrince Vasili Kuragin\n\nAnna Pavlovna\n\nSt. Petersburg\n\nIf you have nothing better to do, Count [or Prince], and if the\nprospect of spending an evening with a poor invalid is not too\nterrible, I shall be very charmed to see you tonight between 7 and 10-\nAnnette Scherer.\n\nHeavens! what a virulent attack!\n\nthe prince\n\nAnna Pavlovna\n\nFirst of all, dear friend, tell me how you are. Set your friend's\nmind at rest,\n\nCan one be well while suffering morally? Can one be calm in times\nlike these if one has any feeling?\n\nAnna Pavlovna\n\nYou are\nstaying the whole evening, I hope?\n\nAnd the fete at the English ambassador's? Today is Wednesday. I\nmust put in an appearance there,\n\nthe prince\n\nMy daughter is\ncoming for me to take me there.\n\nI thought today's fete had been canceled. I confess all these\nfestivities and fireworks are becoming wearisome.\n\nIf they had known that you wished it, the entertainment would\nhave been put off,\n\nthe prince\n\nDon't tease! Well, and what has been decided about Novosiltsev's\ndispatch? You know everything.\n\nWhat can one say about it?\n\nthe prince\n\nWhat has been decided? They have decided that\nBuonaparte has burnt his boats, and I believe that we are ready to\nburn ours.\n\nPrince Vasili\n\nAnna Pavlovna\n\nAnna Pavlovna\n\nOh, don't speak to me of Austria. Perhaps I don't understand\nthings, but Austria never has wished, and does not wish, for war.\nShe is betraying us! Russia alone must save Europe. Our gracious\nsovereign recognizes his high vocation and will be true to it. That is\nthe one thing I have faith in! Our good and wonderful sovereign has to\nperform the noblest role on earth, and he is so virtuous and noble\nthat God will not forsake him. He will fulfill his vocation and\ncrush the hydra of revolution, which has become more terrible than\never in the person of this murderer and villain! We alone must\navenge the blood of the just one.... Whom, I ask you, can we rely\non?... England with her commercial spirit will not and cannot\nunderstand the Emperor Alexander's loftiness of soul. She has\nrefused to evacuate Malta. She wanted to find, and still seeks, some\nsecret motive in our actions. What answer did Novosiltsev get? None.\nThe English have not understood and cannot understand the\nself-abnegation of our Emperor who wants nothing for himself, but only\ndesires the good of mankind. And what have they promised? Nothing! And\nwhat little they have promised they will not perform! Prussia has\nalways declared that Buonaparte is invincible, and that all Europe\nis powerless before him.... And I don't believe a word that Hardenburg\nsays, or Haugwitz either. This famous Prussian neutrality is just a\ntrap. I have faith only in God and the lofty destiny of our adored\nmonarch. He will save Europe!\n\nI think,\n\nthe prince\n\nthat if you had been\nsent instead of our dear Wintzingerode you would have captured the\nKing of Prussia's consent by assault. You are so eloquent. Will you\ngive me a cup of tea?\n\nWintzingerode\n\nKing of Prussia\n\nIn a moment. A propos,\n\nI am\nexpecting two very interesting men tonight, le Vicomte de Mortemart,\nwho is connected with the Montmorencys through the Rohans, one of\nthe best French families. He is one of the genuine emigres, the good\nones. And also the Abbe Morio. Do you know that profound thinker? He\nhas been received by the Emperor. Had you heard?\n\nle Vicomte de Mortemart\n\nMontmorencys\n\nRohans\n\nAbbe Morio\n\nthe Emperor\n\nI shall be delighted to meet them,\n\nthe prince\n\nBut tell me,\n\nis it true that the Dowager Empress wants Baron Funke\nto be appointed first secretary at Vienna? The baron by all accounts\nis a poor creature.\n\nPrince Vasili\n\nDowager Empress Marya Fedorovna\n\nthe baron\n\nAnna Pavlovna\n\nthe Empress\n\nBaron Funke has been recommended to the Dowager Empress by her\nsister,\n\nthe Empress\n\nAnna Pavlovna's\n\nHer Majesty\n\nBaron\nFunke\n\nThe prince\n\nAnna\nPavlovna\n\nthe Empress\n\nNow about your family. Do you know that since your daughter came\nout everyone has been enraptured by her? They say she is amazingly\nbeautiful.\n\nThe prince\n\nI often think,\n\nI often think how unfairly sometimes the\njoys of life are distributed. Why has fate given you two such splendid\nchildren? I don't speak of Anatole, your youngest. I don't like\nhim,\n\nAnatole\n\nTwo such charming children. And really you appreciate\nthem less than anyone, and so you don't deserve to have them.\n\nI can't help it,\n\nthe prince\n\nLavater would have said I\nlack the bump of paternity.\n\nDon't joke; I mean to have a serious talk with you. Do you know I\nam dissatisfied with your younger son? Between ourselves\n\nhe was mentioned at Her\nMajesty's and you were pitied....\n\nThe prince\n\nWhat would you have me do?\n\nYou know I did all\na father could for their education, and they have both turned out\nfools. Hippolyte is at least a quiet fool, but Anatole is an active\none. That is the only difference between them.\n\nAnd why are children born to such men as you? If you were not a\nfather there would be nothing I could reproach you with,\n\nAnna\nPavlovna\n\nI am your faithful slave and to you alone I can confess that my\nchildren are the bane of my life. It is the cross I have to bear. That\nis how I explain it to myself. It can't be helped!\n\nAnna Pavlovna\n\n"
     ]
    }
   ],
   "source": [
    "title = content_parser.find_all(class_={'green', 'red'})\n",
    "\n",
    "for element in title:\n",
    "    print(element.get_text())\n",
    "    print()"
   ]
  },
  {
   "source": [
    "# Navigating Trees\n",
    "\n",
    "* In BS, children tags are always one level below the parent tags whereas the descendants tags can be at any level in the tree below the parent tag\n",
    "* All children tags are descendants but not all descendants are childrens\n",
    "\n"
   ],
   "cell_type": "markdown",
   "metadata": {}
  },
  {
   "cell_type": "code",
   "execution_count": 70,
   "metadata": {},
   "outputs": [],
   "source": [
    "gift_website = 'https://www.pythonscraping.com/pages/page3.html'\n",
    "gift_website_content = requests.get(gift_website).text\n",
    "\n",
    "content = BeautifulSoup(gift_website_content, 'html.parser')\n",
    "\n",
    "with open('c2_content_gift_website.txt', mode='w') as f:\n",
    "    f.write(gift_website_content)"
   ]
  },
  {
   "cell_type": "code",
   "execution_count": 91,
   "metadata": {},
   "outputs": [
    {
     "output_type": "stream",
     "name": "stdout",
     "text": [
      "\n\n<tr><th>\nItem Title\n</th><th>\nDescription\n</th><th>\nCost\n</th><th>\nImage\n</th></tr>\n\n\n<tr class=\"gift\" id=\"gift1\"><td>\nVegetable Basket\n</td><td>\nThis vegetable basket is the perfect gift for your health conscious (or overweight) friends!\n<span class=\"excitingNote\">Now with super-colorful bell peppers!</span>\n</td><td>\n$15.00\n</td><td>\n<img src=\"../img/gifts/img1.jpg\"/>\n</td></tr>\n\n\n<tr class=\"gift\" id=\"gift2\"><td>\nRussian Nesting Dolls\n</td><td>\nHand-painted by trained monkeys, these exquisite dolls are priceless! And by \"priceless,\" we mean \"extremely expensive\"! <span class=\"excitingNote\">8 entire dolls per set! Octuple the presents!</span>\n</td><td>\n$10,000.52\n</td><td>\n<img src=\"../img/gifts/img2.jpg\"/>\n</td></tr>\n\n\n<tr class=\"gift\" id=\"gift3\"><td>\nFish Painting\n</td><td>\nIf something seems fishy about this painting, it's because it's a fish! <span class=\"excitingNote\">Also hand-painted by trained monkeys!</span>\n</td><td>\n$10,005.00\n</td><td>\n<img src=\"../img/gifts/img3.jpg\"/>\n</td></tr>\n\n\n<tr class=\"gift\" id=\"gift4\"><td>\nDead Parrot\n</td><td>\nThis is an ex-parrot! <span class=\"excitingNote\">Or maybe he's only resting?</span>\n</td><td>\n$0.50\n</td><td>\n<img src=\"../img/gifts/img4.jpg\"/>\n</td></tr>\n\n\n<tr class=\"gift\" id=\"gift5\"><td>\nMystery Box\n</td><td>\nIf you love suprises, this mystery box is for you! Do not place on light-colored surfaces. May cause oil staining. <span class=\"excitingNote\">Keep your friends guessing!</span>\n</td><td>\n$1.50\n</td><td>\n<img src=\"../img/gifts/img6.jpg\"/>\n</td></tr>\n\n\n"
     ]
    }
   ],
   "source": [
    "# use the children tag if we only want the descendants that are children\n",
    "chd = content.find('table', {'id': 'giftList'}).children # this will return a list iterator \n",
    "for child in chd:\n",
    "    print(child)"
   ]
  },
  {
   "cell_type": "code",
   "execution_count": 93,
   "metadata": {},
   "outputs": [
    {
     "output_type": "stream",
     "name": "stdout",
     "text": [
      "\n\n\n<tr><th>\nItem Title\n</th><th>\nDescription\n</th><th>\nCost\n</th><th>\nImage\n</th></tr>\n\n<th>\nItem Title\n</th>\n\n\nItem Title\n\n\n<th>\nDescription\n</th>\n\n\nDescription\n\n\n<th>\nCost\n</th>\n\n\nCost\n\n\n<th>\nImage\n</th>\n\n\nImage\n\n\n\n\n\n<tr class=\"gift\" id=\"gift1\"><td>\nVegetable Basket\n</td><td>\nThis vegetable basket is the perfect gift for your health conscious (or overweight) friends!\n<span class=\"excitingNote\">Now with super-colorful bell peppers!</span>\n</td><td>\n$15.00\n</td><td>\n<img src=\"../img/gifts/img1.jpg\"/>\n</td></tr>\n\n<td>\nVegetable Basket\n</td>\n\n\nVegetable Basket\n\n\n<td>\nThis vegetable basket is the perfect gift for your health conscious (or overweight) friends!\n<span class=\"excitingNote\">Now with super-colorful bell peppers!</span>\n</td>\n\n\nThis vegetable basket is the perfect gift for your health conscious (or overweight) friends!\n\n\n<span class=\"excitingNote\">Now with super-colorful bell peppers!</span>\n\nNow with super-colorful bell peppers!\n\n\n\n\n<td>\n$15.00\n</td>\n\n\n$15.00\n\n\n<td>\n<img src=\"../img/gifts/img1.jpg\"/>\n</td>\n\n\n\n\n<img src=\"../img/gifts/img1.jpg\"/>\n\n\n\n\n\n\n\n<tr class=\"gift\" id=\"gift2\"><td>\nRussian Nesting Dolls\n</td><td>\nHand-painted by trained monkeys, these exquisite dolls are priceless! And by \"priceless,\" we mean \"extremely expensive\"! <span class=\"excitingNote\">8 entire dolls per set! Octuple the presents!</span>\n</td><td>\n$10,000.52\n</td><td>\n<img src=\"../img/gifts/img2.jpg\"/>\n</td></tr>\n\n<td>\nRussian Nesting Dolls\n</td>\n\n\nRussian Nesting Dolls\n\n\n<td>\nHand-painted by trained monkeys, these exquisite dolls are priceless! And by \"priceless,\" we mean \"extremely expensive\"! <span class=\"excitingNote\">8 entire dolls per set! Octuple the presents!</span>\n</td>\n\n\nHand-painted by trained monkeys, these exquisite dolls are priceless! And by \"priceless,\" we mean \"extremely expensive\"! \n\n<span class=\"excitingNote\">8 entire dolls per set! Octuple the presents!</span>\n\n8 entire dolls per set! Octuple the presents!\n\n\n\n\n<td>\n$10,000.52\n</td>\n\n\n$10,000.52\n\n\n<td>\n<img src=\"../img/gifts/img2.jpg\"/>\n</td>\n\n\n\n\n<img src=\"../img/gifts/img2.jpg\"/>\n\n\n\n\n\n\n\n<tr class=\"gift\" id=\"gift3\"><td>\nFish Painting\n</td><td>\nIf something seems fishy about this painting, it's because it's a fish! <span class=\"excitingNote\">Also hand-painted by trained monkeys!</span>\n</td><td>\n$10,005.00\n</td><td>\n<img src=\"../img/gifts/img3.jpg\"/>\n</td></tr>\n\n<td>\nFish Painting\n</td>\n\n\nFish Painting\n\n\n<td>\nIf something seems fishy about this painting, it's because it's a fish! <span class=\"excitingNote\">Also hand-painted by trained monkeys!</span>\n</td>\n\n\nIf something seems fishy about this painting, it's because it's a fish! \n\n<span class=\"excitingNote\">Also hand-painted by trained monkeys!</span>\n\nAlso hand-painted by trained monkeys!\n\n\n\n\n<td>\n$10,005.00\n</td>\n\n\n$10,005.00\n\n\n<td>\n<img src=\"../img/gifts/img3.jpg\"/>\n</td>\n\n\n\n\n<img src=\"../img/gifts/img3.jpg\"/>\n\n\n\n\n\n\n\n<tr class=\"gift\" id=\"gift4\"><td>\nDead Parrot\n</td><td>\nThis is an ex-parrot! <span class=\"excitingNote\">Or maybe he's only resting?</span>\n</td><td>\n$0.50\n</td><td>\n<img src=\"../img/gifts/img4.jpg\"/>\n</td></tr>\n\n<td>\nDead Parrot\n</td>\n\n\nDead Parrot\n\n\n<td>\nThis is an ex-parrot! <span class=\"excitingNote\">Or maybe he's only resting?</span>\n</td>\n\n\nThis is an ex-parrot! \n\n<span class=\"excitingNote\">Or maybe he's only resting?</span>\n\nOr maybe he's only resting?\n\n\n\n\n<td>\n$0.50\n</td>\n\n\n$0.50\n\n\n<td>\n<img src=\"../img/gifts/img4.jpg\"/>\n</td>\n\n\n\n\n<img src=\"../img/gifts/img4.jpg\"/>\n\n\n\n\n\n\n\n<tr class=\"gift\" id=\"gift5\"><td>\nMystery Box\n</td><td>\nIf you love suprises, this mystery box is for you! Do not place on light-colored surfaces. May cause oil staining. <span class=\"excitingNote\">Keep your friends guessing!</span>\n</td><td>\n$1.50\n</td><td>\n<img src=\"../img/gifts/img6.jpg\"/>\n</td></tr>\n\n<td>\nMystery Box\n</td>\n\n\nMystery Box\n\n\n<td>\nIf you love suprises, this mystery box is for you! Do not place on light-colored surfaces. May cause oil staining. <span class=\"excitingNote\">Keep your friends guessing!</span>\n</td>\n\n\nIf you love suprises, this mystery box is for you! Do not place on light-colored surfaces. May cause oil staining. \n\n<span class=\"excitingNote\">Keep your friends guessing!</span>\n\nKeep your friends guessing!\n\n\n\n\n<td>\n$1.50\n</td>\n\n\n$1.50\n\n\n<td>\n<img src=\"../img/gifts/img6.jpg\"/>\n</td>\n\n\n\n\n<img src=\"../img/gifts/img6.jpg\"/>\n\n\n\n\n\n\n\n"
     ]
    }
   ],
   "source": [
    "for d in content.find('table', {'id': 'giftList'}).descendants:\n",
    "    print(d)\n",
    "    print()"
   ]
  },
  {
   "cell_type": "code",
   "execution_count": 94,
   "metadata": {},
   "outputs": [
    {
     "output_type": "stream",
     "name": "stdout",
     "text": [
      "\n\n<tr class=\"gift\" id=\"gift1\"><td>\nVegetable Basket\n</td><td>\nThis vegetable basket is the perfect gift for your health conscious (or overweight) friends!\n<span class=\"excitingNote\">Now with super-colorful bell peppers!</span>\n</td><td>\n$15.00\n</td><td>\n<img src=\"../img/gifts/img1.jpg\"/>\n</td></tr>\n\n\n<tr class=\"gift\" id=\"gift2\"><td>\nRussian Nesting Dolls\n</td><td>\nHand-painted by trained monkeys, these exquisite dolls are priceless! And by \"priceless,\" we mean \"extremely expensive\"! <span class=\"excitingNote\">8 entire dolls per set! Octuple the presents!</span>\n</td><td>\n$10,000.52\n</td><td>\n<img src=\"../img/gifts/img2.jpg\"/>\n</td></tr>\n\n\n<tr class=\"gift\" id=\"gift3\"><td>\nFish Painting\n</td><td>\nIf something seems fishy about this painting, it's because it's a fish! <span class=\"excitingNote\">Also hand-painted by trained monkeys!</span>\n</td><td>\n$10,005.00\n</td><td>\n<img src=\"../img/gifts/img3.jpg\"/>\n</td></tr>\n\n\n<tr class=\"gift\" id=\"gift4\"><td>\nDead Parrot\n</td><td>\nThis is an ex-parrot! <span class=\"excitingNote\">Or maybe he's only resting?</span>\n</td><td>\n$0.50\n</td><td>\n<img src=\"../img/gifts/img4.jpg\"/>\n</td></tr>\n\n\n<tr class=\"gift\" id=\"gift5\"><td>\nMystery Box\n</td><td>\nIf you love suprises, this mystery box is for you! Do not place on light-colored surfaces. May cause oil staining. <span class=\"excitingNote\">Keep your friends guessing!</span>\n</td><td>\n$1.50\n</td><td>\n<img src=\"../img/gifts/img6.jpg\"/>\n</td></tr>\n\n\n"
     ]
    }
   ],
   "source": [
    "# objects cannot be siblings with themselves\n",
    "# Everytime we get the siblings of an object, the next_siblings function will call on the next sibling tags\n",
    "\n",
    "for siblings in content.find('table', {'id': 'giftList'}).tr.next_siblings:\n",
    "    print(siblings)"
   ]
  },
  {
   "cell_type": "code",
   "execution_count": 104,
   "metadata": {},
   "outputs": [
    {
     "output_type": "stream",
     "name": "stdout",
     "text": [
      "<td>\n<img src=\"../img/gifts/img1.jpg\"/>\n</td>\n\n<td>\n$15.00\n</td>\n\n\n$15.00\n\n"
     ]
    }
   ],
   "source": [
    "# parent tag\n",
    "\n",
    "print(content.find('img', {'src': '../img/gifts/img1.jpg'}).parent)\n",
    "print()\n",
    "print(content.find('img', {'src': '../img/gifts/img1.jpg'}).parent.previous_sibling)\n",
    "print()\n",
    "print(content.find('img', {'src': '../img/gifts/img1.jpg'}).parent.previous_sibling.get_text())"
   ]
  },
  {
   "cell_type": "code",
   "execution_count": 105,
   "metadata": {},
   "outputs": [
    {
     "output_type": "execute_result",
     "data": {
      "text/plain": [
       "bs4.element.Tag"
      ]
     },
     "metadata": {},
     "execution_count": 105
    }
   ],
   "source": [
    "type(content.find('img', {'src': '../img/gifts/img1.jpg'}).parent)"
   ]
  },
  {
   "cell_type": "code",
   "execution_count": 108,
   "metadata": {},
   "outputs": [
    {
     "output_type": "execute_result",
     "data": {
      "text/plain": [
       "<img src=\"../img/gifts/img1.jpg\"/>"
      ]
     },
     "metadata": {},
     "execution_count": 108
    }
   ],
   "source": [
    "content.find('img', {'src': '../img/gifts/img1.jpg'})\n"
   ]
  },
  {
   "cell_type": "code",
   "execution_count": 120,
   "metadata": {},
   "outputs": [
    {
     "output_type": "execute_result",
     "data": {
      "text/plain": [
       "<generator object Tag.descendants at 0x0000022940254580>"
      ]
     },
     "metadata": {},
     "execution_count": 120
    }
   ],
   "source": [
    "content.find('table', {'id': 'giftList'}).descendants"
   ]
  },
  {
   "cell_type": "code",
   "execution_count": null,
   "metadata": {},
   "outputs": [],
   "source": []
  },
  {
   "cell_type": "code",
   "execution_count": null,
   "metadata": {},
   "outputs": [],
   "source": []
  },
  {
   "cell_type": "code",
   "execution_count": null,
   "metadata": {},
   "outputs": [],
   "source": []
  },
  {
   "cell_type": "code",
   "execution_count": null,
   "metadata": {},
   "outputs": [],
   "source": []
  },
  {
   "cell_type": "code",
   "execution_count": null,
   "metadata": {},
   "outputs": [],
   "source": []
  },
  {
   "cell_type": "code",
   "execution_count": null,
   "metadata": {},
   "outputs": [],
   "source": []
  },
  {
   "cell_type": "code",
   "execution_count": null,
   "metadata": {},
   "outputs": [],
   "source": []
  },
  {
   "cell_type": "code",
   "execution_count": null,
   "metadata": {},
   "outputs": [],
   "source": []
  },
  {
   "cell_type": "code",
   "execution_count": null,
   "metadata": {},
   "outputs": [],
   "source": []
  },
  {
   "cell_type": "code",
   "execution_count": null,
   "metadata": {},
   "outputs": [],
   "source": []
  },
  {
   "cell_type": "code",
   "execution_count": null,
   "metadata": {},
   "outputs": [],
   "source": []
  },
  {
   "cell_type": "code",
   "execution_count": null,
   "metadata": {},
   "outputs": [],
   "source": []
  },
  {
   "cell_type": "code",
   "execution_count": null,
   "metadata": {},
   "outputs": [],
   "source": []
  }
 ]
}