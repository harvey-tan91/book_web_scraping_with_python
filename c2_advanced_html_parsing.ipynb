{
 "metadata": {
  "language_info": {
   "codemirror_mode": {
    "name": "ipython",
    "version": 3
   },
   "file_extension": ".py",
   "mimetype": "text/x-python",
   "name": "python",
   "nbconvert_exporter": "python",
   "pygments_lexer": "ipython3",
   "version": "3.8.3-final"
  },
  "orig_nbformat": 2,
  "kernelspec": {
   "name": "python3",
   "display_name": "Python 3",
   "language": "python"
  }
 },
 "nbformat": 4,
 "nbformat_minor": 2,
 "cells": [
  {
   "source": [
    "# Advanced Parsing\n",
    "\n",
    "* Searching for tags by attributes"
   ],
   "cell_type": "markdown",
   "metadata": {}
  },
  {
   "cell_type": "code",
   "execution_count": 24,
   "metadata": {},
   "outputs": [],
   "source": [
    "import re\n",
    "import requests \n",
    "from bs4 import BeautifulSoup"
   ]
  },
  {
   "cell_type": "code",
   "execution_count": 25,
   "metadata": {},
   "outputs": [],
   "source": [
    "content = requests.get(r'http://www.pythonscraping.com/pages/warandpeace.html').text\n",
    "content_parser = BeautifulSoup(content, 'html.parser')\n",
    "\n",
    "with open('c2_content_parser.txt', mode='w') as f:\n",
    "    f.write(content)"
   ]
  },
  {
   "cell_type": "code",
   "execution_count": 26,
   "metadata": {},
   "outputs": [
    {
     "output_type": "stream",
     "name": "stdout",
     "text": [
      "<class 'bs4.element.ResultSet'>\n"
     ]
    }
   ],
   "source": [
    "# find_all method can be used to find all tags and the attribute associcated with each tag\n",
    "\n",
    "name_list = content_parser.find_all('span', {'class':'green'}) \n",
    "# this find all span tags with the class green\n",
    "# this return a BS result set object which is a iterable\n",
    "print(type(name_list))"
   ]
  },
  {
   "cell_type": "code",
   "execution_count": 27,
   "metadata": {},
   "outputs": [
    {
     "output_type": "stream",
     "name": "stdout",
     "text": [
      "Anna\nPavlovna Scherer\nEmpress Marya\nFedorovna\nPrince Vasili Kuragin\nAnna Pavlovna\nSt. Petersburg\nthe prince\nAnna Pavlovna\nAnna Pavlovna\nthe prince\nthe prince\nthe prince\nPrince Vasili\nAnna Pavlovna\nAnna Pavlovna\nthe prince\nWintzingerode\nKing of Prussia\nle Vicomte de Mortemart\nMontmorencys\nRohans\nAbbe Morio\nthe Emperor\nthe prince\nPrince Vasili\nDowager Empress Marya Fedorovna\nthe baron\nAnna Pavlovna\nthe Empress\nthe Empress\nAnna Pavlovna's\nHer Majesty\nBaron\nFunke\nThe prince\nAnna\nPavlovna\nthe Empress\nThe prince\nAnatole\nthe prince\nThe prince\nAnna\nPavlovna\nAnna Pavlovna\n"
     ]
    }
   ],
   "source": [
    "for name in name_list:\n",
    "    print(name.get_text()) # get_text() method extract the content from the tags\n",
    "\n",
    "# Notes:\n",
    "# calling get_text() should the last thing that we do\n",
    "# we want to preserve the tag structure of a document for as long as possible"
   ]
  },
  {
   "cell_type": "code",
   "execution_count": 28,
   "metadata": {},
   "outputs": [
    {
     "output_type": "stream",
     "name": "stdout",
     "text": [
      "<h1>War and Peace</h1>\n<h2>Chapter 1</h2>\n"
     ]
    }
   ],
   "source": [
    "x = content_parser.find_all(['h1','h2','h3','h4']) # we can also pass in a list of tag name\n",
    "for element in x:\n",
    "    print(element)"
   ]
  },
  {
   "cell_type": "code",
   "execution_count": 29,
   "metadata": {},
   "outputs": [
    {
     "output_type": "stream",
     "name": "stdout",
     "text": [
      "Well, Prince, so Genoa and Lucca are now just family estates of the\nBuonapartes. But I warn you, if you don't tell me that this means war,\nif you still try to defend the infamies and horrors perpetrated by\nthat Antichrist- I really believe he is Antichrist- I will have\nnothing more to do with you and you are no longer my friend, no longer\nmy 'faithful slave,' as you call yourself! But how do you do? I see\nI have frightened you- sit down and tell me all the news.\n\nAnna\nPavlovna Scherer\n\nEmpress Marya\nFedorovna\n\nPrince Vasili Kuragin\n\nAnna Pavlovna\n\nSt. Petersburg\n\nIf you have nothing better to do, Count [or Prince], and if the\nprospect of spending an evening with a poor invalid is not too\nterrible, I shall be very charmed to see you tonight between 7 and 10-\nAnnette Scherer.\n\nHeavens! what a virulent attack!\n\nthe prince\n\nAnna Pavlovna\n\nFirst of all, dear friend, tell me how you are. Set your friend's\nmind at rest,\n\nCan one be well while suffering morally? Can one be calm in times\nlike these if one has any feeling?\n\nAnna Pavlovna\n\nYou are\nstaying the whole evening, I hope?\n\nAnd the fete at the English ambassador's? Today is Wednesday. I\nmust put in an appearance there,\n\nthe prince\n\nMy daughter is\ncoming for me to take me there.\n\nI thought today's fete had been canceled. I confess all these\nfestivities and fireworks are becoming wearisome.\n\nIf they had known that you wished it, the entertainment would\nhave been put off,\n\nthe prince\n\nDon't tease! Well, and what has been decided about Novosiltsev's\ndispatch? You know everything.\n\nWhat can one say about it?\n\nthe prince\n\nWhat has been decided? They have decided that\nBuonaparte has burnt his boats, and I believe that we are ready to\nburn ours.\n\nPrince Vasili\n\nAnna Pavlovna\n\nAnna Pavlovna\n\nOh, don't speak to me of Austria. Perhaps I don't understand\nthings, but Austria never has wished, and does not wish, for war.\nShe is betraying us! Russia alone must save Europe. Our gracious\nsovereign recognizes his high vocation and will be true to it. That is\nthe one thing I have faith in! Our good and wonderful sovereign has to\nperform the noblest role on earth, and he is so virtuous and noble\nthat God will not forsake him. He will fulfill his vocation and\ncrush the hydra of revolution, which has become more terrible than\never in the person of this murderer and villain! We alone must\navenge the blood of the just one.... Whom, I ask you, can we rely\non?... England with her commercial spirit will not and cannot\nunderstand the Emperor Alexander's loftiness of soul. She has\nrefused to evacuate Malta. She wanted to find, and still seeks, some\nsecret motive in our actions. What answer did Novosiltsev get? None.\nThe English have not understood and cannot understand the\nself-abnegation of our Emperor who wants nothing for himself, but only\ndesires the good of mankind. And what have they promised? Nothing! And\nwhat little they have promised they will not perform! Prussia has\nalways declared that Buonaparte is invincible, and that all Europe\nis powerless before him.... And I don't believe a word that Hardenburg\nsays, or Haugwitz either. This famous Prussian neutrality is just a\ntrap. I have faith only in God and the lofty destiny of our adored\nmonarch. He will save Europe!\n\nI think,\n\nthe prince\n\nthat if you had been\nsent instead of our dear Wintzingerode you would have captured the\nKing of Prussia's consent by assault. You are so eloquent. Will you\ngive me a cup of tea?\n\nWintzingerode\n\nKing of Prussia\n\nIn a moment. A propos,\n\nI am\nexpecting two very interesting men tonight, le Vicomte de Mortemart,\nwho is connected with the Montmorencys through the Rohans, one of\nthe best French families. He is one of the genuine emigres, the good\nones. And also the Abbe Morio. Do you know that profound thinker? He\nhas been received by the Emperor. Had you heard?\n\nle Vicomte de Mortemart\n\nMontmorencys\n\nRohans\n\nAbbe Morio\n\nthe Emperor\n\nI shall be delighted to meet them,\n\nthe prince\n\nBut tell me,\n\nis it true that the Dowager Empress wants Baron Funke\nto be appointed first secretary at Vienna? The baron by all accounts\nis a poor creature.\n\nPrince Vasili\n\nDowager Empress Marya Fedorovna\n\nthe baron\n\nAnna Pavlovna\n\nthe Empress\n\nBaron Funke has been recommended to the Dowager Empress by her\nsister,\n\nthe Empress\n\nAnna Pavlovna's\n\nHer Majesty\n\nBaron\nFunke\n\nThe prince\n\nAnna\nPavlovna\n\nthe Empress\n\nNow about your family. Do you know that since your daughter came\nout everyone has been enraptured by her? They say she is amazingly\nbeautiful.\n\nThe prince\n\nI often think,\n\nI often think how unfairly sometimes the\njoys of life are distributed. Why has fate given you two such splendid\nchildren? I don't speak of Anatole, your youngest. I don't like\nhim,\n\nAnatole\n\nTwo such charming children. And really you appreciate\nthem less than anyone, and so you don't deserve to have them.\n\nI can't help it,\n\nthe prince\n\nLavater would have said I\nlack the bump of paternity.\n\nDon't joke; I mean to have a serious talk with you. Do you know I\nam dissatisfied with your younger son? Between ourselves\n\nhe was mentioned at Her\nMajesty's and you were pitied....\n\nThe prince\n\nWhat would you have me do?\n\nYou know I did all\na father could for their education, and they have both turned out\nfools. Hippolyte is at least a quiet fool, but Anatole is an active\none. That is the only difference between them.\n\nAnd why are children born to such men as you? If you were not a\nfather there would be nothing I could reproach you with,\n\nAnna\nPavlovna\n\nI am your faithful slave and to you alone I can confess that my\nchildren are the bane of my life. It is the cross I have to bear. That\nis how I explain it to myself. It can't be helped!\n\nAnna Pavlovna\n\n"
     ]
    }
   ],
   "source": [
    "y = content_parser.find_all('span', {'class':{'green', 'red'}}) \n",
    "\n",
    "for element in y:\n",
    "    print(element.get_text())\n",
    "    print()"
   ]
  },
  {
   "cell_type": "code",
   "execution_count": 30,
   "metadata": {},
   "outputs": [
    {
     "output_type": "execute_result",
     "data": {
      "text/plain": [
       "['the prince',\n",
       " 'the prince',\n",
       " 'the prince',\n",
       " 'the prince',\n",
       " 'the prince',\n",
       " 'the prince',\n",
       " 'the prince']"
      ]
     },
     "metadata": {},
     "execution_count": 30
    }
   ],
   "source": [
    "prince_content = content_parser.find_all(text='the prince')\n",
    "prince_content"
   ]
  },
  {
   "cell_type": "code",
   "execution_count": 31,
   "metadata": {},
   "outputs": [
    {
     "output_type": "stream",
     "name": "stdout",
     "text": [
      "[]\n"
     ]
    }
   ],
   "source": [
    "title = content_parser.find_all(id='title', class_='text')\n",
    "print(title)\n",
    "# this return first tag with the following attribute:\n",
    "# class : 'text'\n",
    "# id : 'title'"
   ]
  },
  {
   "cell_type": "code",
   "execution_count": 32,
   "metadata": {},
   "outputs": [
    {
     "output_type": "stream",
     "name": "stdout",
     "text": [
      "None\n"
     ]
    }
   ],
   "source": [
    "title = content_parser.find(id='title')\n",
    "print(title)"
   ]
  },
  {
   "cell_type": "code",
   "execution_count": 33,
   "metadata": {},
   "outputs": [
    {
     "output_type": "stream",
     "name": "stdout",
     "text": [
      "[]\n"
     ]
    }
   ],
   "source": [
    "title = content_parser.find_all(id='title', class_='green')\n",
    "print(title)"
   ]
  },
  {
   "cell_type": "code",
   "execution_count": 34,
   "metadata": {},
   "outputs": [
    {
     "output_type": "stream",
     "name": "stdout",
     "text": [
      "Well, Prince, so Genoa and Lucca are now just family estates of the\n",
      "Buonapartes. But I warn you, if you don't tell me that this means war,\n",
      "if you still try to defend the infamies and horrors perpetrated by\n",
      "that Antichrist- I really believe he is Antichrist- I will have\n",
      "nothing more to do with you and you are no longer my friend, no longer\n",
      "my 'faithful slave,' as you call yourself! But how do you do? I see\n",
      "I have frightened you- sit down and tell me all the news.\n",
      "\n",
      "Anna\n",
      "Pavlovna Scherer\n",
      "\n",
      "Empress Marya\n",
      "Fedorovna\n",
      "\n",
      "Prince Vasili Kuragin\n",
      "\n",
      "Anna Pavlovna\n",
      "\n",
      "St. Petersburg\n",
      "\n",
      "If you have nothing better to do, Count [or Prince], and if the\n",
      "prospect of spending an evening with a poor invalid is not too\n",
      "terrible, I shall be very charmed to see you tonight between 7 and 10-\n",
      "Annette Scherer.\n",
      "\n",
      "Heavens! what a virulent attack!\n",
      "\n",
      "the prince\n",
      "\n",
      "Anna Pavlovna\n",
      "\n",
      "First of all, dear friend, tell me how you are. Set your friend's\n",
      "mind at rest,\n",
      "\n",
      "Can one be well while suffering morally? Can one be calm in times\n",
      "like these if one has any feeling?\n",
      "\n",
      "Anna Pavlovna\n",
      "\n",
      "You are\n",
      "staying the whole evening, I hope?\n",
      "\n",
      "And the fete at the English ambassador's? Today is Wednesday. I\n",
      "must put in an appearance there,\n",
      "\n",
      "the prince\n",
      "\n",
      "My daughter is\n",
      "coming for me to take me there.\n",
      "\n",
      "I thought today's fete had been canceled. I confess all these\n",
      "festivities and fireworks are becoming wearisome.\n",
      "\n",
      "If they had known that you wished it, the entertainment would\n",
      "have been put off,\n",
      "\n",
      "the prince\n",
      "\n",
      "Don't tease! Well, and what has been decided about Novosiltsev's\n",
      "dispatch? You know everything.\n",
      "\n",
      "What can one say about it?\n",
      "\n",
      "the prince\n",
      "\n",
      "What has been decided? They have decided that\n",
      "Buonaparte has burnt his boats, and I believe that we are ready to\n",
      "burn ours.\n",
      "\n",
      "Prince Vasili\n",
      "\n",
      "Anna Pavlovna\n",
      "\n",
      "Anna Pavlovna\n",
      "\n",
      "Oh, don't speak to me of Austria. Perhaps I don't understand\n",
      "things, but Austria never has wished, and does not wish, for war.\n",
      "She is betraying us! Russia alone must save Europe. Our gracious\n",
      "sovereign recognizes his high vocation and will be true to it. That is\n",
      "the one thing I have faith in! Our good and wonderful sovereign has to\n",
      "perform the noblest role on earth, and he is so virtuous and noble\n",
      "that God will not forsake him. He will fulfill his vocation and\n",
      "crush the hydra of revolution, which has become more terrible than\n",
      "ever in the person of this murderer and villain! We alone must\n",
      "avenge the blood of the just one.... Whom, I ask you, can we rely\n",
      "on?... England with her commercial spirit will not and cannot\n",
      "understand the Emperor Alexander's loftiness of soul. She has\n",
      "refused to evacuate Malta. She wanted to find, and still seeks, some\n",
      "secret motive in our actions. What answer did Novosiltsev get? None.\n",
      "The English have not understood and cannot understand the\n",
      "self-abnegation of our Emperor who wants nothing for himself, but only\n",
      "desires the good of mankind. And what have they promised? Nothing! And\n",
      "what little they have promised they will not perform! Prussia has\n",
      "always declared that Buonaparte is invincible, and that all Europe\n",
      "is powerless before him.... And I don't believe a word that Hardenburg\n",
      "says, or Haugwitz either. This famous Prussian neutrality is just a\n",
      "trap. I have faith only in God and the lofty destiny of our adored\n",
      "monarch. He will save Europe!\n",
      "\n",
      "I think,\n",
      "\n",
      "the prince\n",
      "\n",
      "that if you had been\n",
      "sent instead of our dear Wintzingerode you would have captured the\n",
      "King of Prussia's consent by assault. You are so eloquent. Will you\n",
      "give me a cup of tea?\n",
      "\n",
      "Wintzingerode\n",
      "\n",
      "King of Prussia\n",
      "\n",
      "In a moment. A propos,\n",
      "\n",
      "I am\n",
      "expecting two very interesting men tonight, le Vicomte de Mortemart,\n",
      "who is connected with the Montmorencys through the Rohans, one of\n",
      "the best French families. He is one of the genuine emigres, the good\n",
      "ones. And also the Abbe Morio. Do you know that profound thinker? He\n",
      "has been received by the Emperor. Had you heard?\n",
      "\n",
      "le Vicomte de Mortemart\n",
      "\n",
      "Montmorencys\n",
      "\n",
      "Rohans\n",
      "\n",
      "Abbe Morio\n",
      "\n",
      "the Emperor\n",
      "\n",
      "I shall be delighted to meet them,\n",
      "\n",
      "the prince\n",
      "\n",
      "But tell me,\n",
      "\n",
      "is it true that the Dowager Empress wants Baron Funke\n",
      "to be appointed first secretary at Vienna? The baron by all accounts\n",
      "is a poor creature.\n",
      "\n",
      "Prince Vasili\n",
      "\n",
      "Dowager Empress Marya Fedorovna\n",
      "\n",
      "the baron\n",
      "\n",
      "Anna Pavlovna\n",
      "\n",
      "the Empress\n",
      "\n",
      "Baron Funke has been recommended to the Dowager Empress by her\n",
      "sister,\n",
      "\n",
      "the Empress\n",
      "\n",
      "Anna Pavlovna's\n",
      "\n",
      "Her Majesty\n",
      "\n",
      "Baron\n",
      "Funke\n",
      "\n",
      "The prince\n",
      "\n",
      "Anna\n",
      "Pavlovna\n",
      "\n",
      "the Empress\n",
      "\n",
      "Now about your family. Do you know that since your daughter came\n",
      "out everyone has been enraptured by her? They say she is amazingly\n",
      "beautiful.\n",
      "\n",
      "The prince\n",
      "\n",
      "I often think,\n",
      "\n",
      "I often think how unfairly sometimes the\n",
      "joys of life are distributed. Why has fate given you two such splendid\n",
      "children? I don't speak of Anatole, your youngest. I don't like\n",
      "him,\n",
      "\n",
      "Anatole\n",
      "\n",
      "Two such charming children. And really you appreciate\n",
      "them less than anyone, and so you don't deserve to have them.\n",
      "\n",
      "I can't help it,\n",
      "\n",
      "the prince\n",
      "\n",
      "Lavater would have said I\n",
      "lack the bump of paternity.\n",
      "\n",
      "Don't joke; I mean to have a serious talk with you. Do you know I\n",
      "am dissatisfied with your younger son? Between ourselves\n",
      "\n",
      "he was mentioned at Her\n",
      "Majesty's and you were pitied....\n",
      "\n",
      "The prince\n",
      "\n",
      "What would you have me do?\n",
      "\n",
      "You know I did all\n",
      "a father could for their education, and they have both turned out\n",
      "fools. Hippolyte is at least a quiet fool, but Anatole is an active\n",
      "one. That is the only difference between them.\n",
      "\n",
      "And why are children born to such men as you? If you were not a\n",
      "father there would be nothing I could reproach you with,\n",
      "\n",
      "Anna\n",
      "Pavlovna\n",
      "\n",
      "I am your faithful slave and to you alone I can confess that my\n",
      "children are the bane of my life. It is the cross I have to bear. That\n",
      "is how I explain it to myself. It can't be helped!\n",
      "\n",
      "Anna Pavlovna\n",
      "\n"
     ]
    }
   ],
   "source": [
    "title = content_parser.find_all(class_={'green', 'red'})\n",
    "\n",
    "for element in title:\n",
    "    print(element.get_text())\n",
    "    print()"
   ]
  },
  {
   "source": [
    "# Navigating Trees\n",
    "\n",
    "* In BS, children tags are always one level below the parent tags whereas the descendants tags can be at any level in the tree below the parent tag\n",
    "* All children tags are descendants but not all descendants are childrens\n",
    "\n"
   ],
   "cell_type": "markdown",
   "metadata": {}
  },
  {
   "cell_type": "code",
   "execution_count": 35,
   "metadata": {},
   "outputs": [],
   "source": [
    "gift_website = 'https://www.pythonscraping.com/pages/page3.html'\n",
    "gift_website_content = requests.get(gift_website).text\n",
    "\n",
    "content = BeautifulSoup(gift_website_content, 'html.parser')\n",
    "\n",
    "with open('c2_content_gift_website.txt', mode='w') as f:\n",
    "    f.write(gift_website_content)"
   ]
  },
  {
   "cell_type": "code",
   "execution_count": 36,
   "metadata": {},
   "outputs": [
    {
     "output_type": "stream",
     "name": "stdout",
     "text": [
      "\n\n<tr><th>\nItem Title\n</th><th>\nDescription\n</th><th>\nCost\n</th><th>\nImage\n</th></tr>\n\n\n<tr class=\"gift\" id=\"gift1\"><td>\nVegetable Basket\n</td><td>\nThis vegetable basket is the perfect gift for your health conscious (or overweight) friends!\n<span class=\"excitingNote\">Now with super-colorful bell peppers!</span>\n</td><td>\n$15.00\n</td><td>\n<img src=\"../img/gifts/img1.jpg\"/>\n</td></tr>\n\n\n<tr class=\"gift\" id=\"gift2\"><td>\nRussian Nesting Dolls\n</td><td>\nHand-painted by trained monkeys, these exquisite dolls are priceless! And by \"priceless,\" we mean \"extremely expensive\"! <span class=\"excitingNote\">8 entire dolls per set! Octuple the presents!</span>\n</td><td>\n$10,000.52\n</td><td>\n<img src=\"../img/gifts/img2.jpg\"/>\n</td></tr>\n\n\n<tr class=\"gift\" id=\"gift3\"><td>\nFish Painting\n</td><td>\nIf something seems fishy about this painting, it's because it's a fish! <span class=\"excitingNote\">Also hand-painted by trained monkeys!</span>\n</td><td>\n$10,005.00\n</td><td>\n<img src=\"../img/gifts/img3.jpg\"/>\n</td></tr>\n\n\n<tr class=\"gift\" id=\"gift4\"><td>\nDead Parrot\n</td><td>\nThis is an ex-parrot! <span class=\"excitingNote\">Or maybe he's only resting?</span>\n</td><td>\n$0.50\n</td><td>\n<img src=\"../img/gifts/img4.jpg\"/>\n</td></tr>\n\n\n<tr class=\"gift\" id=\"gift5\"><td>\nMystery Box\n</td><td>\nIf you love suprises, this mystery box is for you! Do not place on light-colored surfaces. May cause oil staining. <span class=\"excitingNote\">Keep your friends guessing!</span>\n</td><td>\n$1.50\n</td><td>\n<img src=\"../img/gifts/img6.jpg\"/>\n</td></tr>\n\n\n"
     ]
    }
   ],
   "source": [
    "# use the children tag if we only want the descendants that are children\n",
    "chd = content.find('table', {'id': 'giftList'}).children # this will return a list iterator \n",
    "for child in chd:\n",
    "    print(child)"
   ]
  },
  {
   "cell_type": "code",
   "execution_count": 37,
   "metadata": {},
   "outputs": [
    {
     "output_type": "stream",
     "name": "stdout",
     "text": [
      "\n\n\n<tr><th>\nItem Title\n</th><th>\nDescription\n</th><th>\nCost\n</th><th>\nImage\n</th></tr>\n\n<th>\nItem Title\n</th>\n\n\nItem Title\n\n\n<th>\nDescription\n</th>\n\n\nDescription\n\n\n<th>\nCost\n</th>\n\n\nCost\n\n\n<th>\nImage\n</th>\n\n\nImage\n\n\n\n\n\n<tr class=\"gift\" id=\"gift1\"><td>\nVegetable Basket\n</td><td>\nThis vegetable basket is the perfect gift for your health conscious (or overweight) friends!\n<span class=\"excitingNote\">Now with super-colorful bell peppers!</span>\n</td><td>\n$15.00\n</td><td>\n<img src=\"../img/gifts/img1.jpg\"/>\n</td></tr>\n\n<td>\nVegetable Basket\n</td>\n\n\nVegetable Basket\n\n\n<td>\nThis vegetable basket is the perfect gift for your health conscious (or overweight) friends!\n<span class=\"excitingNote\">Now with super-colorful bell peppers!</span>\n</td>\n\n\nThis vegetable basket is the perfect gift for your health conscious (or overweight) friends!\n\n\n<span class=\"excitingNote\">Now with super-colorful bell peppers!</span>\n\nNow with super-colorful bell peppers!\n\n\n\n\n<td>\n$15.00\n</td>\n\n\n$15.00\n\n\n<td>\n<img src=\"../img/gifts/img1.jpg\"/>\n</td>\n\n\n\n\n<img src=\"../img/gifts/img1.jpg\"/>\n\n\n\n\n\n\n\n<tr class=\"gift\" id=\"gift2\"><td>\nRussian Nesting Dolls\n</td><td>\nHand-painted by trained monkeys, these exquisite dolls are priceless! And by \"priceless,\" we mean \"extremely expensive\"! <span class=\"excitingNote\">8 entire dolls per set! Octuple the presents!</span>\n</td><td>\n$10,000.52\n</td><td>\n<img src=\"../img/gifts/img2.jpg\"/>\n</td></tr>\n\n<td>\nRussian Nesting Dolls\n</td>\n\n\nRussian Nesting Dolls\n\n\n<td>\nHand-painted by trained monkeys, these exquisite dolls are priceless! And by \"priceless,\" we mean \"extremely expensive\"! <span class=\"excitingNote\">8 entire dolls per set! Octuple the presents!</span>\n</td>\n\n\nHand-painted by trained monkeys, these exquisite dolls are priceless! And by \"priceless,\" we mean \"extremely expensive\"! \n\n<span class=\"excitingNote\">8 entire dolls per set! Octuple the presents!</span>\n\n8 entire dolls per set! Octuple the presents!\n\n\n\n\n<td>\n$10,000.52\n</td>\n\n\n$10,000.52\n\n\n<td>\n<img src=\"../img/gifts/img2.jpg\"/>\n</td>\n\n\n\n\n<img src=\"../img/gifts/img2.jpg\"/>\n\n\n\n\n\n\n\n<tr class=\"gift\" id=\"gift3\"><td>\nFish Painting\n</td><td>\nIf something seems fishy about this painting, it's because it's a fish! <span class=\"excitingNote\">Also hand-painted by trained monkeys!</span>\n</td><td>\n$10,005.00\n</td><td>\n<img src=\"../img/gifts/img3.jpg\"/>\n</td></tr>\n\n<td>\nFish Painting\n</td>\n\n\nFish Painting\n\n\n<td>\nIf something seems fishy about this painting, it's because it's a fish! <span class=\"excitingNote\">Also hand-painted by trained monkeys!</span>\n</td>\n\n\nIf something seems fishy about this painting, it's because it's a fish! \n\n<span class=\"excitingNote\">Also hand-painted by trained monkeys!</span>\n\nAlso hand-painted by trained monkeys!\n\n\n\n\n<td>\n$10,005.00\n</td>\n\n\n$10,005.00\n\n\n<td>\n<img src=\"../img/gifts/img3.jpg\"/>\n</td>\n\n\n\n\n<img src=\"../img/gifts/img3.jpg\"/>\n\n\n\n\n\n\n\n<tr class=\"gift\" id=\"gift4\"><td>\nDead Parrot\n</td><td>\nThis is an ex-parrot! <span class=\"excitingNote\">Or maybe he's only resting?</span>\n</td><td>\n$0.50\n</td><td>\n<img src=\"../img/gifts/img4.jpg\"/>\n</td></tr>\n\n<td>\nDead Parrot\n</td>\n\n\nDead Parrot\n\n\n<td>\nThis is an ex-parrot! <span class=\"excitingNote\">Or maybe he's only resting?</span>\n</td>\n\n\nThis is an ex-parrot! \n\n<span class=\"excitingNote\">Or maybe he's only resting?</span>\n\nOr maybe he's only resting?\n\n\n\n\n<td>\n$0.50\n</td>\n\n\n$0.50\n\n\n<td>\n<img src=\"../img/gifts/img4.jpg\"/>\n</td>\n\n\n\n\n<img src=\"../img/gifts/img4.jpg\"/>\n\n\n\n\n\n\n\n<tr class=\"gift\" id=\"gift5\"><td>\nMystery Box\n</td><td>\nIf you love suprises, this mystery box is for you! Do not place on light-colored surfaces. May cause oil staining. <span class=\"excitingNote\">Keep your friends guessing!</span>\n</td><td>\n$1.50\n</td><td>\n<img src=\"../img/gifts/img6.jpg\"/>\n</td></tr>\n\n<td>\nMystery Box\n</td>\n\n\nMystery Box\n\n\n<td>\nIf you love suprises, this mystery box is for you! Do not place on light-colored surfaces. May cause oil staining. <span class=\"excitingNote\">Keep your friends guessing!</span>\n</td>\n\n\nIf you love suprises, this mystery box is for you! Do not place on light-colored surfaces. May cause oil staining. \n\n<span class=\"excitingNote\">Keep your friends guessing!</span>\n\nKeep your friends guessing!\n\n\n\n\n<td>\n$1.50\n</td>\n\n\n$1.50\n\n\n<td>\n<img src=\"../img/gifts/img6.jpg\"/>\n</td>\n\n\n\n\n<img src=\"../img/gifts/img6.jpg\"/>\n\n\n\n\n\n\n\n"
     ]
    }
   ],
   "source": [
    "for d in content.find('table', {'id': 'giftList'}).descendants:\n",
    "    print(d)\n",
    "    print()"
   ]
  },
  {
   "cell_type": "code",
   "execution_count": 38,
   "metadata": {},
   "outputs": [
    {
     "output_type": "stream",
     "name": "stdout",
     "text": [
      "\n\n<tr class=\"gift\" id=\"gift1\"><td>\nVegetable Basket\n</td><td>\nThis vegetable basket is the perfect gift for your health conscious (or overweight) friends!\n<span class=\"excitingNote\">Now with super-colorful bell peppers!</span>\n</td><td>\n$15.00\n</td><td>\n<img src=\"../img/gifts/img1.jpg\"/>\n</td></tr>\n\n\n<tr class=\"gift\" id=\"gift2\"><td>\nRussian Nesting Dolls\n</td><td>\nHand-painted by trained monkeys, these exquisite dolls are priceless! And by \"priceless,\" we mean \"extremely expensive\"! <span class=\"excitingNote\">8 entire dolls per set! Octuple the presents!</span>\n</td><td>\n$10,000.52\n</td><td>\n<img src=\"../img/gifts/img2.jpg\"/>\n</td></tr>\n\n\n<tr class=\"gift\" id=\"gift3\"><td>\nFish Painting\n</td><td>\nIf something seems fishy about this painting, it's because it's a fish! <span class=\"excitingNote\">Also hand-painted by trained monkeys!</span>\n</td><td>\n$10,005.00\n</td><td>\n<img src=\"../img/gifts/img3.jpg\"/>\n</td></tr>\n\n\n<tr class=\"gift\" id=\"gift4\"><td>\nDead Parrot\n</td><td>\nThis is an ex-parrot! <span class=\"excitingNote\">Or maybe he's only resting?</span>\n</td><td>\n$0.50\n</td><td>\n<img src=\"../img/gifts/img4.jpg\"/>\n</td></tr>\n\n\n<tr class=\"gift\" id=\"gift5\"><td>\nMystery Box\n</td><td>\nIf you love suprises, this mystery box is for you! Do not place on light-colored surfaces. May cause oil staining. <span class=\"excitingNote\">Keep your friends guessing!</span>\n</td><td>\n$1.50\n</td><td>\n<img src=\"../img/gifts/img6.jpg\"/>\n</td></tr>\n\n\n"
     ]
    }
   ],
   "source": [
    "# objects cannot be siblings with themselves\n",
    "# Everytime we get the siblings of an object, the next_siblings function will call on the next sibling tags\n",
    "\n",
    "for siblings in content.find('table', {'id': 'giftList'}).tr.next_siblings:\n",
    "    print(siblings)"
   ]
  },
  {
   "cell_type": "code",
   "execution_count": 39,
   "metadata": {},
   "outputs": [
    {
     "output_type": "execute_result",
     "data": {
      "text/plain": [
       "<tr><th>\n",
       "Item Title\n",
       "</th><th>\n",
       "Description\n",
       "</th><th>\n",
       "Cost\n",
       "</th><th>\n",
       "Image\n",
       "</th></tr>"
      ]
     },
     "metadata": {},
     "execution_count": 39
    }
   ],
   "source": [
    "content.find('table', {'id': 'giftList'}).tr"
   ]
  },
  {
   "cell_type": "code",
   "execution_count": 40,
   "metadata": {},
   "outputs": [
    {
     "output_type": "stream",
     "name": "stdout",
     "text": [
      "<td>\n<img src=\"../img/gifts/img1.jpg\"/>\n</td>\n\n<td>\n$15.00\n</td>\n\n\n$15.00\n\n"
     ]
    }
   ],
   "source": [
    "# parent tag\n",
    "\n",
    "print(content.find('img', {'src': '../img/gifts/img1.jpg'}).parent)\n",
    "print()\n",
    "print(content.find('img', {'src': '../img/gifts/img1.jpg'}).parent.previous_sibling)\n",
    "print()\n",
    "print(content.find('img', {'src': '../img/gifts/img1.jpg'}).parent.previous_sibling.get_text())"
   ]
  },
  {
   "cell_type": "code",
   "execution_count": 41,
   "metadata": {},
   "outputs": [
    {
     "output_type": "execute_result",
     "data": {
      "text/plain": [
       "bs4.element.Tag"
      ]
     },
     "metadata": {},
     "execution_count": 41
    }
   ],
   "source": [
    "type(content.find('img', {'src': '../img/gifts/img1.jpg'}).parent)"
   ]
  },
  {
   "cell_type": "code",
   "execution_count": 42,
   "metadata": {},
   "outputs": [
    {
     "output_type": "execute_result",
     "data": {
      "text/plain": [
       "<img src=\"../img/gifts/img1.jpg\"/>"
      ]
     },
     "metadata": {},
     "execution_count": 42
    }
   ],
   "source": [
    "content.find('img', {'src': '../img/gifts/img1.jpg'})"
   ]
  },
  {
   "cell_type": "code",
   "execution_count": 43,
   "metadata": {},
   "outputs": [
    {
     "output_type": "execute_result",
     "data": {
      "text/plain": [
       "<generator object Tag.descendants at 0x0000021E655AC350>"
      ]
     },
     "metadata": {},
     "execution_count": 43
    }
   ],
   "source": [
    "content.find('table', {'id': 'giftList'}).descendants"
   ]
  },
  {
   "source": [
    "# Using Regular Expression"
   ],
   "cell_type": "markdown",
   "metadata": {}
  },
  {
   "cell_type": "code",
   "execution_count": 44,
   "metadata": {},
   "outputs": [],
   "source": [
    "gift_website = 'https://www.pythonscraping.com/pages/page3.html'\n",
    "gift_website_content = requests.get(gift_website).text\n",
    "\n",
    "content = BeautifulSoup(gift_website_content, 'html.parser')"
   ]
  },
  {
   "cell_type": "code",
   "execution_count": 46,
   "metadata": {},
   "outputs": [
    {
     "output_type": "execute_result",
     "data": {
      "text/plain": [
       "[<img src=\"../img/gifts/logo.jpg\" style=\"float:left;\"/>,\n",
       " <img src=\"../img/gifts/img1.jpg\"/>,\n",
       " <img src=\"../img/gifts/img2.jpg\"/>,\n",
       " <img src=\"../img/gifts/img3.jpg\"/>,\n",
       " <img src=\"../img/gifts/img4.jpg\"/>,\n",
       " <img src=\"../img/gifts/img6.jpg\"/>]"
      ]
     },
     "metadata": {},
     "execution_count": 46
    }
   ],
   "source": [
    "images = content.find_all('img')\n",
    "images"
   ]
  },
  {
   "cell_type": "code",
   "execution_count": 163,
   "metadata": {},
   "outputs": [
    {
     "output_type": "execute_result",
     "data": {
      "text/plain": [
       "[<img src=\"../img/gifts/img1.jpg\"/>,\n",
       " <img src=\"../img/gifts/img2.jpg\"/>,\n",
       " <img src=\"../img/gifts/img3.jpg\"/>,\n",
       " <img src=\"../img/gifts/img4.jpg\"/>,\n",
       " <img src=\"../img/gifts/img6.jpg\"/>]"
      ]
     },
     "metadata": {},
     "execution_count": 163
    }
   ],
   "source": [
    "images = content.find_all('img',\n",
    "                                {'src': re.compile(r'\\.\\./img/gifts/img.?\\.jpg')}\n",
    "                                )\n",
    "images"
   ]
  },
  {
   "cell_type": "code",
   "execution_count": 61,
   "metadata": {},
   "outputs": [
    {
     "output_type": "stream",
     "name": "stdout",
     "text": [
      "../img/gifts/img1.jpg\n../img/gifts/img2.jpg\n../img/gifts/img3.jpg\n../img/gifts/img4.jpg\n../img/gifts/img6.jpg\n"
     ]
    }
   ],
   "source": [
    "for img in images:\n",
    "    print(img['src'])"
   ]
  },
  {
   "source": [
    "# Accessing Attributes"
   ],
   "cell_type": "markdown",
   "metadata": {}
  },
  {
   "cell_type": "code",
   "execution_count": 73,
   "metadata": {},
   "outputs": [
    {
     "output_type": "execute_result",
     "data": {
      "text/plain": [
       "{}"
      ]
     },
     "metadata": {},
     "execution_count": 73
    }
   ],
   "source": [
    "content.find('tr').attrs"
   ]
  },
  {
   "cell_type": "code",
   "execution_count": 70,
   "metadata": {},
   "outputs": [
    {
     "output_type": "execute_result",
     "data": {
      "text/plain": [
       "[<span class=\"excitingNote\">Now with super-colorful bell peppers!</span>,\n",
       " <span class=\"excitingNote\">8 entire dolls per set! Octuple the presents!</span>,\n",
       " <span class=\"excitingNote\">Also hand-painted by trained monkeys!</span>,\n",
       " <span class=\"excitingNote\">Or maybe he's only resting?</span>,\n",
       " <span class=\"excitingNote\">Keep your friends guessing!</span>]"
      ]
     },
     "metadata": {},
     "execution_count": 70
    }
   ],
   "source": [
    "content.find_all('span')"
   ]
  },
  {
   "source": [
    "# Lambda Expression"
   ],
   "cell_type": "markdown",
   "metadata": {}
  },
  {
   "cell_type": "code",
   "execution_count": 101,
   "metadata": {},
   "outputs": [
    {
     "output_type": "stream",
     "name": "stdout",
     "text": [
      "<img src=\"../img/gifts/logo.jpg\" style=\"float:left;\"/>\n\n<tr class=\"gift\" id=\"gift1\"><td>\nVegetable Basket\n</td><td>\nThis vegetable basket is the perfect gift for your health conscious (or overweight) friends!\n<span class=\"excitingNote\">Now with super-colorful bell peppers!</span>\n</td><td>\n$15.00\n</td><td>\n<img src=\"../img/gifts/img1.jpg\"/>\n</td></tr>\n\n<tr class=\"gift\" id=\"gift2\"><td>\nRussian Nesting Dolls\n</td><td>\nHand-painted by trained monkeys, these exquisite dolls are priceless! And by \"priceless,\" we mean \"extremely expensive\"! <span class=\"excitingNote\">8 entire dolls per set! Octuple the presents!</span>\n</td><td>\n$10,000.52\n</td><td>\n<img src=\"../img/gifts/img2.jpg\"/>\n</td></tr>\n\n<tr class=\"gift\" id=\"gift3\"><td>\nFish Painting\n</td><td>\nIf something seems fishy about this painting, it's because it's a fish! <span class=\"excitingNote\">Also hand-painted by trained monkeys!</span>\n</td><td>\n$10,005.00\n</td><td>\n<img src=\"../img/gifts/img3.jpg\"/>\n</td></tr>\n\n<tr class=\"gift\" id=\"gift4\"><td>\nDead Parrot\n</td><td>\nThis is an ex-parrot! <span class=\"excitingNote\">Or maybe he's only resting?</span>\n</td><td>\n$0.50\n</td><td>\n<img src=\"../img/gifts/img4.jpg\"/>\n</td></tr>\n\n<tr class=\"gift\" id=\"gift5\"><td>\nMystery Box\n</td><td>\nIf you love suprises, this mystery box is for you! Do not place on light-colored surfaces. May cause oil staining. <span class=\"excitingNote\">Keep your friends guessing!</span>\n</td><td>\n$1.50\n</td><td>\n<img src=\"../img/gifts/img6.jpg\"/>\n</td></tr>\n\n"
     ]
    }
   ],
   "source": [
    "x = content.find_all(lambda tag: len(tag.attrs) == 2)\n",
    "\n",
    "# the second agrument, i.e. len(tag.attrs) == 2 return a Boolean value\n",
    "\n",
    "for element in x:\n",
    "    print(element)\n",
    "    print()"
   ]
  },
  {
   "source": [
    "# Playing around"
   ],
   "cell_type": "markdown",
   "metadata": {}
  },
  {
   "cell_type": "code",
   "execution_count": 307,
   "metadata": {},
   "outputs": [
    {
     "output_type": "execute_result",
     "data": {
      "text/plain": [
       "'\\n\\nItem Title\\n\\nDescription\\n\\nCost\\n\\nImage\\n\\n\\nVegetable Basket\\n\\nThis vegetable basket is the perfect gift for your health conscious (or overweight) friends!\\nNow with super-colorful bell peppers!\\n\\n$15.00\\n\\n\\n\\n\\nRussian Nesting Dolls\\n\\nHand-painted by trained monkeys, these exquisite dolls are priceless! And by \"priceless,\" we mean \"extremely expensive\"! 8 entire dolls per set! Octuple the presents!\\n\\n$10,000.52\\n\\n\\n\\n\\nFish Painting\\n\\nIf something seems fishy about this painting, it\\'s because it\\'s a fish! Also hand-painted by trained monkeys!\\n\\n$10,005.00\\n\\n\\n\\n\\nDead Parrot\\n\\nThis is an ex-parrot! Or maybe he\\'s only resting?\\n\\n$0.50\\n\\n\\n\\n\\nMystery Box\\n\\nIf you love suprises, this mystery box is for you! Do not place on light-colored surfaces. May cause oil staining. Keep your friends guessing!\\n\\n$1.50\\n\\n\\n\\n'"
      ]
     },
     "metadata": {},
     "execution_count": 307
    }
   ],
   "source": [
    "x = content.find('table', {'id': 'giftList'}).get_text()\n",
    "x"
   ]
  },
  {
   "cell_type": "code",
   "execution_count": 319,
   "metadata": {},
   "outputs": [
    {
     "output_type": "execute_result",
     "data": {
      "text/plain": [
       "['$15.00', '$10,000.52', '$10,005.00', '$0.50', '$1.50']"
      ]
     },
     "metadata": {},
     "execution_count": 319
    }
   ],
   "source": [
    "prices_pattern = re.compile(r'\\$\\d+\\.?\\,?\\d+\\.?\\d+')\n",
    "prices_pattern.findall(x)"
   ]
  },
  {
   "cell_type": "code",
   "execution_count": null,
   "metadata": {},
   "outputs": [],
   "source": []
  }
 ]
}